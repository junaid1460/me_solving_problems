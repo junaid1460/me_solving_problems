{
 "cells": [
  {
   "cell_type": "code",
   "execution_count": 5,
   "metadata": {},
   "outputs": [
    {
     "name": "stdout",
     "output_type": "stream",
     "text": [
      "1000001111\n"
     ]
    }
   ],
   "source": [
    "from collections import deque\n",
    "import time\n",
    "s = \"1000101011\"\n",
    "m = sorted(deque(map(int, s)))\n",
    "for i, e in enumerate(m):\n",
    "    if e != 0:\n",
    "        del m[i]\n",
    "        print(''.join(list(map(str, [e] + m))))\n",
    "        break\n"
   ]
  },
  {
   "cell_type": "code",
   "execution_count": 76,
   "metadata": {},
   "outputs": [
    {
     "name": "stdout",
     "output_type": "stream",
     "text": [
      "28\n"
     ]
    }
   ],
   "source": [
    "from queue import heappop, heappush\n",
    "from collections import defaultdict\n",
    "\n",
    "def dijkstra(graph, source):\n",
    "    if len(graph[source]) == 0:\n",
    "        return None\n",
    "    width = { i: float('Inf') for i in graph}\n",
    "    prev = {}\n",
    "    width[source] = 0\n",
    "    vt = []\n",
    "    heappush(vt,(source, float('Inf')))\n",
    "    visited = set()\n",
    "    while len(vt) > 0:\n",
    "        current, cw = heappop(vt)\n",
    "        visited.add(current)\n",
    "        for v, e in graph[current].items():\n",
    "            \n",
    "            m = min(width[v],width[current] + e)\n",
    "            if m < width[v] and not v in visited:\n",
    "                width[v] = m\n",
    "                prev[v] = current\n",
    "                heappush(vt,(v, m))\n",
    "                \n",
    "    return [width, prev]\n",
    "n, m, k, x = 7, 3, 1, 6\n",
    "choc = [1]\n",
    "path = [(2, 4, 2),(4, 7, 1), (7,5,2),(3,1,3),(3, 5, 7), (6, 5, 3)]\n",
    "a, b = 6,2\n",
    "graph = defaultdict(defaultdict)\n",
    "for u, v, d in path:\n",
    "    graph[u][v] = d\n",
    "    graph[v][u] = d\n",
    "\n",
    "\n",
    "tot = -1\n",
    "wfromb, prevfromb = None, None\n",
    "res = dijkstra(graph, b)\n",
    "if not res == None:\n",
    "    w, p = res\n",
    "    for i in choc:\n",
    "        res = dijkstra(graph,i)\n",
    "        if res != None:\n",
    "#             print(res, w[i], i, w)\n",
    "#             print(w[i] + res[0][a])\n",
    "            if w[i] + res[0][a] != float(\"Inf\"):\n",
    "                tot = max(tot , w[i] + res[0][a])\n",
    "\n",
    "print(tot)\n",
    "\n",
    "# help(v.get_nowait)"
   ]
  }
 ],
 "metadata": {
  "kernelspec": {
   "display_name": "Python 3",
   "language": "python",
   "name": "python3"
  },
  "language_info": {
   "codemirror_mode": {
    "name": "ipython",
    "version": 3
   },
   "file_extension": ".py",
   "mimetype": "text/x-python",
   "name": "python",
   "nbconvert_exporter": "python",
   "pygments_lexer": "ipython3",
   "version": "3.5.2"
  }
 },
 "nbformat": 4,
 "nbformat_minor": 2
}
