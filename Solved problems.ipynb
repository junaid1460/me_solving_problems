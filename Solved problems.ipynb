{
 "cells": [
  {
   "cell_type": "code",
   "execution_count": 96,
   "metadata": {},
   "outputs": [
    {
     "name": "stdout",
     "output_type": "stream",
     "text": [
      "-1\n"
     ]
    }
   ],
   "source": [
    "import collections as cl\n",
    "t  = int(input())\n",
    "for _ in range(t):\n",
    "    input()\n",
    "    words = str(input()).split()\n",
    "    input()\n",
    "    elements = str(input()).split()\n",
    "    elm = []\n",
    "    for word in words:\n",
    "        y = cl.Counter(word)\n",
    "        x = cl.Counter(elements)\n",
    "        x.subtract(y)\n",
    "        if x.most_common()[:-2:-1][0][1] >= 0:\n",
    "            elm += [word]\n",
    "    if len(elm) == 0:\n",
    "        print(-1)\n",
    "    else:\n",
    "        elm = [i for i in set(elm)]\n",
    "        elm.sort()\n",
    "        print(' '.join(elm))"
   ]
  },
  {
   "cell_type": "code",
   "execution_count": 115,
   "metadata": {},
   "outputs": [
    {
     "name": "stdout",
     "output_type": "stream",
     "text": [
      "2  3  8  10$2  4  7  10$3  5  7  8$\n"
     ]
    }
   ],
   "source": [
    "import itertools as it\n",
    "n,k = 7,23\n",
    "elms = [10, 2, 3, 4, 5, 7, 8]\n",
    "out = []\n",
    "def iterunique(iterable):\n",
    "    tmp = set()\n",
    "    for i in iterable:\n",
    "        if not i in tmp:\n",
    "            yield i\n",
    "            tmp.add(i)\n",
    "        \n",
    "            \n",
    "for i in it.combinations(elms, 4):\n",
    "    if sum(i) == k:\n",
    "        out.append(sorted(i))\n",
    "out.sort()\n",
    "print(''.join([' '.join(map(str,i))+'$' for i in iterunique([tuple(i) for i in out])]))\n"
   ]
  },
  {
   "cell_type": "code",
   "execution_count": 153,
   "metadata": {},
   "outputs": [
    {
     "name": "stdout",
     "output_type": "stream",
     "text": [
      "1 4 6 8 9 10\n"
     ]
    }
   ],
   "source": [
    "def twoseq(iterable):\n",
    "    it = iter(iterable)\n",
    "    try:\n",
    "        while True:\n",
    "            x = [next(it)]\n",
    "            y = [next(it)]\n",
    "            yield x + y\n",
    "    except BaseException:\n",
    "        pass\n",
    "def setseq(iterable):\n",
    "    for i in iterable:\n",
    "        x, y = i\n",
    "        yield { i for i in range(x, y+1)}\n",
    "elms = [1, 3, 2, 4, 6, 8, 9, 10]\n",
    "# elms = [6, 8, 1, 9, 2, 4, 4, 7]\n",
    "elms = sorted([i for i in twoseq(elms)])\n",
    "prev = None\n",
    "seq = []\n",
    "has = False\n",
    "# print(elms)\n",
    "for i in setseq(elms):\n",
    "#     print(i)\n",
    "    if prev is None:\n",
    "        prev = i\n",
    "        has = False\n",
    "    elif len(prev & i) > 0:\n",
    "#         print(\"yes\")\n",
    "        prev |= i\n",
    "#         print(prev)\n",
    "        has = True\n",
    "    else:\n",
    "        seq += [sorted([i for i in prev])]\n",
    "        prev = i\n",
    "        has = False\n",
    "seq += [sorted([i for i in prev])]\n",
    "elms = []\n",
    "for i in seq:\n",
    "    elms += [[i[0],i[-1]]]\n",
    "elms.sort()\n",
    "def flatten(it):\n",
    "    for i in it:\n",
    "        yield str(i[0])\n",
    "        yield str(i[1])\n",
    "print(' '.join(flatten(elms)))\n",
    "    \n",
    "    \n",
    "        \n",
    "\n",
    "        "
   ]
  },
  {
   "cell_type": "code",
   "execution_count": 168,
   "metadata": {},
   "outputs": [
    {
     "name": "stdout",
     "output_type": "stream",
     "text": [
      "3\n"
     ]
    }
   ],
   "source": [
    "import itertools as it\n",
    "import math\n",
    "data = \"00100101\"\n",
    "indexes = [k for k, i in enumerate(data) if i == '1']\n",
    "def revseq(start,end):\n",
    "    while start >= end:\n",
    "        yield start\n",
    "        start -= 1\n",
    "n = len(indexes)\n",
    "r = 2\n",
    "val  = 1\n",
    "for i in revseq(n,n-r + 1):\n",
    "    val *= i\n",
    "print(val//2)\n"
   ]
  },
  {
   "cell_type": "markdown",
   "metadata": {},
   "source": [
    "# codechef\n",
    "praveen, arjun"
   ]
  },
  {
   "cell_type": "code",
   "execution_count": 224,
   "metadata": {},
   "outputs": [
    {
     "name": "stdout",
     "output_type": "stream",
     "text": [
      "defaultdict(<class 'set'>, {1: {2}, 2: {8, 1, 3, 4, 7}, 3: {2}, 4: {2, 5, 6}, 5: {4}, 6: {4}, 7: {9, 2, 10}, 8: {2}, 9: {7}, 10: {11, 7}, 11: {10}})\n",
      "defaultdict(<class 'int'>, {1: 1, 2: 2, 3: 1, 4: 2, 5: 1, 6: 1, 7: 2, 8: 1, 9: 1, 10: 1, 11: 1})\n",
      "[(5, 1), (4, 2), (2, 2), (7, 2), (10, 1)]\n",
      "3\n",
      "[(1, 1), (2, 2), (7, 2), (9, 1)]\n",
      "2\n",
      "[(6, 1), (4, 2), (2, 2), (7, 2), (10, 1)]\n",
      "3\n",
      "[(3, 1), (2, 2), (7, 2)]\n",
      "0\n",
      "[(2, 2), (7, 2), (9, 1)]\n",
      "2\n",
      "[(9, 1), (7, 2), (2, 2)]\n",
      "0\n"
     ]
    }
   ],
   "source": [
    "import collections as cl\n",
    "import itertools as it\n",
    "n, q = 11, 6\n",
    "edges = [(1,2), (2, 3), (2, 4),(4, 5),(4, 6),(2, 8),(2, 7),(7, 9),(7, 10),(11, 10)]\n",
    "query = [(5, 10),(1, 9),(6, 10),(3 ,7),(2, 9),(9, 2)]\n",
    "\n",
    "# n, q = 20, 4\n",
    "# edges = [(1, 2),(2, 3),(2 ,4),(4 ,6),(5, 6),(6, 20),(8, 20),(7, 20),(4, 9),(9, 10),(10, 19),(17, 19),(18, 19),(10, 11),(11, 12),(11, 13),(13, 14),(13, 15),(15, 16)]\n",
    "# query = [(4, 10),(1, 16),(17, 18),(11, 11)]\n",
    "tree = cl.defaultdict(set)\n",
    "for i, j in edges:\n",
    "    tree[i].add(j)\n",
    "    tree[j].add(i)\n",
    "weights = cl.defaultdict(int)\n",
    "print(tree)\n",
    "\n",
    "\n",
    "for i in range(1, n + 1):\n",
    "    if len(tree[i])> 2:\n",
    "        weights[i] = 2\n",
    "    else:\n",
    "        if len(tree[i]) == 2:\n",
    "            t1, t2 = tree[i]\n",
    "            if len(tree[t1]) > 2 and len(tree[t2]) > 2:\n",
    "                weights[i] = 2\n",
    "            else:\n",
    "                weights[i] = 1\n",
    "        else:\n",
    "            weights[i] = 1\n",
    "            \n",
    "            \n",
    "print(weights)\n",
    "def bfs(graph, src, dst, visited = set(), path = []):\n",
    "    visited.add(src)\n",
    "    if src == dst:\n",
    "        return path + [src]\n",
    "    else:\n",
    "        for i in graph[src]:\n",
    "            if not i in visited:\n",
    "                res = bfs(graph, i, dst, visited,  path + [src])\n",
    "                if res != None:\n",
    "                    return res\n",
    "def twiter(it):\n",
    "    it = iter(it)\n",
    "    c = next(it)\n",
    "    p = None\n",
    "    for i in it:\n",
    "        p = c\n",
    "        c = i\n",
    "        yield (p,c)\n",
    "        \n",
    "for i, j in query:\n",
    "    tmp =  bfs(tree, i, j, set(), [])\n",
    "    tmp  = [(i,weights[i]) for i in tmp]\n",
    "    print(tmp)\n",
    "    \n",
    "    count = 0\n",
    "    l = len(tmp)\n",
    "    for k in range(l):\n",
    "        for m in range(k+1,l):\n",
    "            if tmp[k][1] > tmp[m][1]:\n",
    "                count +=1\n",
    "    print(count)\n",
    "            \n",
    "        \n",
    "    \n",
    "            \n",
    "            \n"
   ]
  },
  {
   "cell_type": "code",
   "execution_count": 235,
   "metadata": {},
   "outputs": [
    {
     "name": "stdout",
     "output_type": "stream",
     "text": [
      "00:05:45\n"
     ]
    }
   ],
   "source": [
    "s = \"12:05:45AM\"\n",
    "dom = s[-2:]\n",
    "h, m, s = [int(i) for i in s[:-2].split(':')]\n",
    "if dom == 'PM' and h != 12:\n",
    "    h += 12\n",
    "elif dom == 'AM' and h == 12:\n",
    "    h = 0\n",
    "print(\"{:02}:{:02}:{:02}\".format(h, m, s))"
   ]
  },
  {
   "cell_type": "markdown",
   "metadata": {},
   "source": [
    "# Vasya"
   ]
  },
  {
   "cell_type": "code",
   "execution_count": 263,
   "metadata": {},
   "outputs": [
    {
     "name": "stdout",
     "output_type": "stream",
     "text": [
      "defaultdict(<class 'set'>, {8: {8, 2}, 2: {2, 6}, 4: {8, 2, 4}, 6: {6}})\n",
      "3\n"
     ]
    }
   ],
   "source": [
    "from collections import defaultdict\n",
    "arr = [4, 8, 2, 6]\n",
    "# input()\n",
    "# arr = list(map(int,str(input().strip()).split()))\n",
    "elm = defaultdict(set)\n",
    "for i in arr:\n",
    "    for j in elm:\n",
    "        if j % i == 0 or i % j == 0:\n",
    "            elm[j].add(i)\n",
    "            flag = False\n",
    "    elm[i].add(i)\n",
    "print(elm)\n",
    "def lenit(it):\n",
    "    for i in it:\n",
    "        yield len(i)\n",
    "out = max(list(lenit(elm.values())))\n",
    "if out <= 1:\n",
    "    print(-1)\n",
    "else:\n",
    "    print(out)\n"
   ]
  },
  {
   "cell_type": "code",
   "execution_count": 299,
   "metadata": {},
   "outputs": [
    {
     "name": "stdout",
     "output_type": "stream",
     "text": [
      "defaultdict(<class 'list'>, {2: [2, 4, 6], 3: [3, 6], 4: [4], 6: [6]})\n",
      "3\n"
     ]
    }
   ],
   "source": [
    "from collections import defaultdict\n",
    "arr = [4, 6, 3, 2]\n",
    "\n",
    "# input()\n",
    "# arr = list(map(int,str(input().strip()).split()))\n",
    "\n",
    "arr.sort()\n",
    "elm = defaultdict(list)\n",
    "for i in arr:\n",
    "#     flag = True\n",
    "    for j in elm:\n",
    "        if max(i,j) % min(i,j) == 0:\n",
    "            elm[j].append(i)\n",
    "#             flag = False\n",
    "#     if flag:\n",
    "    elm[i].append(i)\n",
    "print(elm)\n",
    "def lenit(it):\n",
    "    for i in it:\n",
    "        yield len(i)\n",
    "out = max(list(lenit(elm.values())))\n",
    "if out <= 1:\n",
    "    print(-1)\n",
    "else:\n",
    "    print(out)"
   ]
  },
  {
   "cell_type": "code",
   "execution_count": 294,
   "metadata": {},
   "outputs": [],
   "source": [
    "\n",
    "class El:\n",
    "    def __init__(self, val):\n",
    "        self.val = val\n",
    "    def __lt__(self, el):\n",
    "        return self.val < el.val"
   ]
  },
  {
   "cell_type": "markdown",
   "metadata": {},
   "source": [
    "# Floyd warshall with path generator addon"
   ]
  },
  {
   "cell_type": "code",
   "execution_count": 352,
   "metadata": {},
   "outputs": [
    {
     "data": {
      "text/plain": [
       "[1, 3, 0]"
      ]
     },
     "execution_count": 352,
     "metadata": {},
     "output_type": "execute_result"
    }
   ],
   "source": [
    "from collections import defaultdict\n",
    "import math\n",
    "dist = [\n",
    "    [0,   1,   2, math.inf],\n",
    "    [math.inf, math.inf, math.inf, 1],\n",
    "    [math.inf, math.inf, 0,   2],\n",
    "    [2, math.inf, math.inf,   0],\n",
    "]\n",
    "\n",
    "path = defaultdict(defaultdict)\n",
    "v = 4\n",
    "for i in range(v):\n",
    "    for j in range(v):\n",
    "        for k in range(v):\n",
    "            val = dist[j][i] + dist[i][k]\n",
    "            if dist[j][k] > val:\n",
    "                path[j][k] = i\n",
    "                dist[j][k] = val\n",
    "            else:\n",
    "                try:\n",
    "                    path[j][k]\n",
    "                except:\n",
    "                    if dist[j][k] != math.inf:\n",
    "                        path[j][k] = k\n",
    "# print(dist)\n",
    "# print(path)\n",
    "\n",
    "\n",
    "def getPath(g, src, dst):\n",
    "    try:\n",
    "        g[src][dst]\n",
    "    except:\n",
    "        return\n",
    "    yield src\n",
    "    while src != dst:\n",
    "        src = g[src][dst]\n",
    "        yield src\n",
    "    pass\n",
    "\n",
    "list(getPath(path, 1, 0))"
   ]
  }
 ],
 "metadata": {
  "kernelspec": {
   "display_name": "Python 3",
   "language": "python",
   "name": "python3"
  },
  "language_info": {
   "codemirror_mode": {
    "name": "ipython",
    "version": 3
   },
   "file_extension": ".py",
   "mimetype": "text/x-python",
   "name": "python",
   "nbconvert_exporter": "python",
   "pygments_lexer": "ipython3",
   "version": "3.5.2"
  }
 },
 "nbformat": 4,
 "nbformat_minor": 2
}
