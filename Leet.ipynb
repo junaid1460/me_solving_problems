{
 "cells": [
  {
   "cell_type": "code",
   "execution_count": 57,
   "metadata": {},
   "outputs": [
    {
     "name": "stdout",
     "output_type": "stream",
     "text": [
      "8\n"
     ]
    }
   ],
   "source": [
    "a = [0, 1, 2, 3]\n",
    "l = 0\n",
    "r = len(a) - 1\n",
    "count = 0\n",
    "while l < r:\n",
    "    i, j = r, l\n",
    "    t = a[j]\n",
    "    while j <= r:\n",
    "        t = t & a[j]\n",
    "        count += t\n",
    "        j+= 1\n",
    "    t = a[i]\n",
    "    while i > l:\n",
    "        t = t & a[i]\n",
    "        count += t\n",
    "        i -= 1\n",
    "    # inc,dec\n",
    "    l += 1\n",
    "    r -= 1\n",
    "\n",
    "        \n",
    "if l == r:\n",
    "    count += a[l]\n",
    "    \n",
    "print(count)"
   ]
  },
  {
   "cell_type": "code",
   "execution_count": null,
   "metadata": {
    "collapsed": true
   },
   "outputs": [],
   "source": []
  },
  {
   "cell_type": "code",
   "execution_count": 15,
   "metadata": {},
   "outputs": [
    {
     "name": "stdout",
     "output_type": "stream",
     "text": [
      "defaultdict(<function <lambda> at 0x7f9bf44daae8>, {1: defaultdict(<function <lambda>.<locals>.<lambda> at 0x7f9bf455e8c8>, {1: inf, 2: inf, 3: inf, 4: inf, 5: inf, 6: inf, 7: inf}), 2: defaultdict(<function <lambda>.<locals>.<lambda> at 0x7f9bf455ed90>, {1: inf, 2: inf, 3: inf, 4: inf, 5: inf, 6: inf, 7: inf}), 3: defaultdict(<function <lambda>.<locals>.<lambda> at 0x7f9bf6c51ae8>, {1: inf, 2: inf, 3: inf, 4: inf, 5: inf, 6: inf, 7: inf}), 4: defaultdict(<function <lambda>.<locals>.<lambda> at 0x7f9bf44da0d0>, {1: inf, 2: inf, 3: inf, 4: inf, 5: inf, 6: inf, 7: inf}), 5: defaultdict(<function <lambda>.<locals>.<lambda> at 0x7f9bf44da6a8>, {1: inf, 2: inf, 3: inf, 4: inf, 5: inf, 6: inf, 7: inf}), 6: defaultdict(<function <lambda>.<locals>.<lambda> at 0x7f9bf44da840>, {1: inf, 2: inf, 3: inf, 4: inf, 5: inf, 6: inf, 7: inf}), 7: defaultdict(<function <lambda>.<locals>.<lambda> at 0x7f9bf44da950>, {1: inf, 2: inf, 3: inf, 4: inf, 5: inf, 6: inf, 7: inf})})\n",
      "(1, defaultdict(<function <lambda>.<locals>.<lambda> at 0x7f9bf44da268>, {1: 3, 2: 3, 3: 2, 4: 2, 5: inf, 6: inf, 7: inf}))\n",
      "(2, defaultdict(<function <lambda>.<locals>.<lambda> at 0x7f9bf44da2f0>, {1: 3, 2: 3, 3: inf, 4: inf, 5: 1, 6: 1, 7: inf}))\n",
      "(3, defaultdict(<function <lambda>.<locals>.<lambda> at 0x7f9bf44da400>, {1: 2, 2: inf, 3: 2, 4: inf, 5: inf, 6: inf, 7: inf}))\n",
      "(4, defaultdict(<function <lambda>.<locals>.<lambda> at 0x7f9bf44da488>, {1: 2, 2: inf, 3: inf, 4: 2, 5: inf, 6: inf, 7: inf}))\n",
      "(5, defaultdict(<function <lambda>.<locals>.<lambda> at 0x7f9bf44da510>, {1: inf, 2: 1, 3: inf, 4: inf, 5: 1, 6: inf, 7: 1}))\n",
      "(6, defaultdict(<function <lambda>.<locals>.<lambda> at 0x7f9bf44dad90>, {1: inf, 2: 1, 3: inf, 4: inf, 5: inf, 6: 1, 7: inf}))\n",
      "(7, defaultdict(<function <lambda>.<locals>.<lambda> at 0x7f9bf44daf28>, {1: inf, 2: inf, 3: inf, 4: inf, 5: 1, 6: inf, 7: 1}))\n"
     ]
    }
   ],
   "source": [
    "from collections import defaultdict\n",
    "import math\n",
    "\n",
    "math.inf = float('Inf') #avoid crashing with python2\n",
    "\n",
    "n, m = 7, 5\n",
    "cost = [2, 1, 1, 2, 1, 1, 0]\n",
    "path = [[1, 2, 0], [1, 3 ,1], [1, 4 ,0], [2, 5, 2], [2, 6, 0], [5, 7, 1]]\n",
    "q = [[1, 2], [2, 3], [1, 3], [1, 7], [7, 1]]\n",
    "dist = defaultdict(lambda:defaultdict(lambda:float('Inf')))\n",
    "\n",
    "for a, b, c in path:\n",
    "    dist[a][b] = c\n",
    "    dist[b][a] = c\n",
    "    \n",
    "v = n + 1 #number of vertices\n",
    "for i in range(1, v):\n",
    "    dist[i][i] = 0\n",
    "\n",
    "def dfs(g, src, dst):\n",
    "    \n",
    "    \n"
   ]
  },
  {
   "cell_type": "code",
   "execution_count": 21,
   "metadata": {},
   "outputs": [
    {
     "data": {
      "text/plain": [
       "[6, 5, 4, 2, 1]"
      ]
     },
     "execution_count": 21,
     "metadata": {},
     "output_type": "execute_result"
    }
   ],
   "source": [
    "import heapq\n",
    "a = [2,1,4,5,6,7]\n",
    "class e:\n",
    "    def __init__(self, x):\n",
    "        self.x = x\n",
    "    def __lt__(self, x):\n",
    "        if self.x < x.x:\n",
    "            return False\n",
    "        return True\n",
    "    def __repr__(self):\n",
    "        return str(self.x)\n",
    "a = list(map(e,a))\n",
    "heapq.heapify(a)\n",
    "heapq.heappop(a)\n",
    "a"
   ]
  },
  {
   "cell_type": "code",
   "execution_count": 35,
   "metadata": {},
   "outputs": [
    {
     "data": {
      "text/plain": [
       "3"
      ]
     },
     "execution_count": 35,
     "metadata": {},
     "output_type": "execute_result"
    }
   ],
   "source": [
    "from collections import Counter, defaultdict\n",
    "def gap(a, b):\n",
    "        t = abs(abs(a) - abs(b))\n",
    "        if a > b:\n",
    "            return -t\n",
    "        else:\n",
    "            return t\n",
    "class Solution(object):\n",
    "    def gap(self, a, b):\n",
    "        t = abs(abs(a) - abs(b))\n",
    "        if a > b:\n",
    "            return -t\n",
    "        else:\n",
    "            return t\n",
    "    def twoSum(self, nums, target):\n",
    "        n = defaultdict(list)\n",
    "        for i, e in enumerate(nums):\n",
    "            n[e].append(i)\n",
    "        for i in n:\n",
    "            gp =  gap(i, target)\n",
    "            if not gp in n:\n",
    "                continue\n",
    "            else:\n",
    "                if gp == i and len(n[gp]) > 1:\n",
    "                    return sorted(n[gp][:2])\n",
    "                elif gp != i:\n",
    "                    return sorted([n[i][0], n[gp][0]])\n",
    "        \n",
    "                    \n",
    "                    \n",
    "x = Solution()\n",
    "x.twoSum([-3,4,3,90], 0)\n",
    "x.gap(0,3)"
   ]
  },
  {
   "cell_type": "code",
   "execution_count": 39,
   "metadata": {},
   "outputs": [
    {
     "name": "stdout",
     "output_type": "stream",
     "text": [
      "342\n",
      "465\n",
      "[8, 0, 7]\n"
     ]
    },
    {
     "data": {
      "text/plain": [
       "[7, 0, 8]"
      ]
     },
     "execution_count": 39,
     "metadata": {},
     "output_type": "execute_result"
    }
   ],
   "source": [
    "#         self.next = None\n",
    "def toNum(it):\n",
    "    it = it[::-1]\n",
    "    l = len(it)\n",
    "    t = list(map(str, it))\n",
    "    t = ''.join(t)\n",
    "#     print(t)\n",
    "    return int(t)\n",
    "def toList(num):\n",
    "    t = str(num)\n",
    "    t = list(map(int, t))\n",
    "#     print(t)\n",
    "    return t[::-1]\n",
    "    \n",
    "class Solution(object):\n",
    "    def addTwoNumbers(self, l1, l2):\n",
    "        return toList(toNum(l1) + toNum(l2))\n",
    "        \n",
    "x = Solution()\n",
    "x.addTwoNumbers([2,4,3], [5,6,4])"
   ]
  },
  {
   "cell_type": "code",
   "execution_count": 63,
   "metadata": {},
   "outputs": [
    {
     "name": "stdout",
     "output_type": "stream",
     "text": [
      "0 d\n",
      "1 v\n",
      "2 d\n",
      "3 f\n"
     ]
    },
    {
     "data": {
      "text/plain": [
       "3"
      ]
     },
     "execution_count": 63,
     "metadata": {},
     "output_type": "execute_result"
    }
   ],
   "source": [
    "class Solution(object):\n",
    "    def lengthOfLongestSubstring(self, s):\n",
    "        prev = {}\n",
    "        m = 0\n",
    "        seq = []\n",
    "        count = 0\n",
    "        last = 0\n",
    "        for i, e in enumerate(s):\n",
    "            print(i, e)\n",
    "            if e in prev:\n",
    "                m = max(m, count - last)\n",
    "                t = prev[e]\n",
    "                for k in seq[last:prev[e]]:\n",
    "                    try:\n",
    "                        prev.pop(k)\n",
    "                    except:\n",
    "                        pass\n",
    "                last = t + 1\n",
    "                seq += [e]\n",
    "                prev[e] = count\n",
    "                count += 1\n",
    "            else:\n",
    "                seq += [e]\n",
    "                prev[e] = count\n",
    "                count += 1\n",
    "                \n",
    "        m = max(m, len(prev))\n",
    "        return m\n",
    "\n",
    "x = Solution()\n",
    "x.lengthOfLongestSubstring('dvdf')\n"
   ]
  },
  {
   "cell_type": "code",
   "execution_count": 80,
   "metadata": {},
   "outputs": [
    {
     "data": {
      "text/plain": [
       "([4, 2], [1, 3, 5])"
      ]
     },
     "execution_count": 80,
     "metadata": {},
     "output_type": "execute_result"
    }
   ],
   "source": [
    "import heapq as hq\n",
    "class MaxHeap():\n",
    "    def __init__(self, x):\n",
    "        self.val = x\n",
    "    def __lt__(self, x):\n",
    "        if self.val < x.val:\n",
    "            return False\n",
    "        return True\n",
    "    def get(self):\n",
    "        return self.val\n",
    "    def __repr__(self):\n",
    "        return str(self.val)\n",
    "    \n",
    "class MinHeap():\n",
    "    def __init__(self, x):\n",
    "        self.val = x\n",
    "    def __lt__(self, x):\n",
    "        if self.val < x.val:\n",
    "            return True\n",
    "        return False\n",
    "    def get(self):\n",
    "        return self.val\n",
    "    def __repr__(self):\n",
    "        return str(self.val)\n",
    "    \n",
    "class Q:\n",
    "    def __init__(self, wrapper = MinHeap):\n",
    "        self.q = []\n",
    "        self.wrapper = wrapper\n",
    "    def push(self, x):\n",
    "        x = self.wrapper(x)\n",
    "        hq.heappush(self.q, x)\n",
    "    def peek(self):\n",
    "        return self[0].get()\n",
    "    def pop(self):\n",
    "        return hq.heappop(self.q).get()\n",
    "    def __repr__(self):\n",
    "        return str(self.q)\n",
    "    def __len__(self):\n",
    "        return len(self.q)\n",
    "\n",
    "def insert(mnq, mxq, x):\n",
    "    if len(mnq) > len(mxq):\n",
    "        mxq.push(x)\n",
    "    else:\n",
    "        mnq.push(x)\n",
    "nums1 = [1, 2]\n",
    "nums2 = [3 , 4, 5]\n",
    "\n",
    "x = Q(MaxHeap)\n",
    "y = Q()\n",
    "\n",
    "for i in nums1 + nums2:\n",
    "    insert(y,x,i)\n",
    "x, y"
   ]
  },
  {
   "cell_type": "code",
   "execution_count": null,
   "metadata": {
    "collapsed": true
   },
   "outputs": [],
   "source": []
  },
  {
   "cell_type": "code",
   "execution_count": null,
   "metadata": {
    "collapsed": true
   },
   "outputs": [],
   "source": []
  },
  {
   "cell_type": "code",
   "execution_count": 112,
   "metadata": {},
   "outputs": [
    {
     "name": "stdout",
     "output_type": "stream",
     "text": [
      "0 2\n",
      "1 2\n"
     ]
    },
    {
     "data": {
      "text/plain": [
       "'aaa'"
      ]
     },
     "execution_count": 112,
     "metadata": {},
     "output_type": "execute_result"
    }
   ],
   "source": [
    "class Solution(object):\n",
    "    def longestPalindrome(self, s):\n",
    "        ln = len(s)\n",
    "        st = \"\"\n",
    "        m = 0\n",
    "        for i in range(ln - 1):\n",
    "#             print(i)\n",
    "            l, r = i, i\n",
    "            while r < ln - 1 and s[r] == s[r + 1]:\n",
    "                r += 1\n",
    "            \n",
    "                \n",
    "            while l >= 0 and r < ln:\n",
    "                print(l, r)\n",
    "                if s[l] != s[r]:\n",
    "                    print(st)\n",
    "                    print('broke', l, r)\n",
    "                    l += 1\n",
    "                    r -= 1\n",
    "                    break\n",
    "            \n",
    "                l -= 1\n",
    "                r += 1\n",
    "                 \n",
    "                \n",
    "                \n",
    "            if l == -1 or r == ln:\n",
    "                l += 1\n",
    "                r -= 1\n",
    "            if m < r - l:\n",
    "                m = r - l\n",
    "                st = s[l:r + 1]\n",
    "        return st if st != '' else s[:1]\n",
    "            \n",
    "                \n",
    "        \n",
    "x = Solution()\n",
    "x.longestPalindrome('aaa')"
   ]
  },
  {
   "cell_type": "code",
   "execution_count": 134,
   "metadata": {},
   "outputs": [
    {
     "name": "stdout",
     "output_type": "stream",
     "text": [
      "defaultdict(<class 'list'>, {0: ['P', 'A', 'H', 'N'], 1: ['A', 'P', 'L', 'S', 'I', 'I', 'G'], 2: ['Y', 'I', 'R']})\n"
     ]
    },
    {
     "data": {
      "text/plain": [
       "'PAHNAPLSIIGYIR'"
      ]
     },
     "execution_count": 134,
     "metadata": {},
     "output_type": "execute_result"
    }
   ],
   "source": [
    "from collections import defaultdict\n",
    "def nums(rows):\n",
    "    t = 0 \n",
    "    while True:\n",
    "        t = 0\n",
    "        while t < rows:\n",
    "            yield t\n",
    "            t += 1\n",
    "        t -= 2\n",
    "        while t > 0:\n",
    "            yield t\n",
    "            t -= 1\n",
    "class Solution(object):\n",
    "    def convert(self, s, numRows):\n",
    "        rows = defaultdict(list)\n",
    "        it = nums(numRows)\n",
    "        for i in s:\n",
    "            t = next(it)\n",
    "#             print(t)\n",
    "            rows[t].append(i)\n",
    "        tmp = []\n",
    "#         print(rows)\n",
    "        for i in range(numRows):\n",
    "            tmp += rows[i]\n",
    "        return ''.join(tmp)\n",
    "            \n",
    "\n",
    "x = Solution()\n",
    "x.convert(\"PAYPALISHIRING\", 3)"
   ]
  },
  {
   "cell_type": "code",
   "execution_count": 144,
   "metadata": {},
   "outputs": [
    {
     "name": "stdout",
     "output_type": "stream",
     "text": [
      "2147483647\n"
     ]
    },
    {
     "data": {
      "text/plain": [
       "-321"
      ]
     },
     "execution_count": 144,
     "metadata": {},
     "output_type": "execute_result"
    }
   ],
   "source": [
    "class Solution(object):\n",
    "    def reverse(self, x):\n",
    "        neg = x < 0\n",
    "        data = str(abs(x))\n",
    "        data = int(data[::-1])\n",
    "        m = 0\n",
    "        for i in range(31):\n",
    "            m = m << 1\n",
    "            m = m | 1\n",
    "        print(m)\n",
    "        if neg:\n",
    "            if -data < ~m:\n",
    "                return 0\n",
    "            return -data\n",
    "        if data > m:\n",
    "            return 0\n",
    "        return data\n",
    "        \n",
    "x = Solution()\n",
    "x.reverse(-123)"
   ]
  },
  {
   "cell_type": "code",
   "execution_count": 182,
   "metadata": {},
   "outputs": [
    {
     "name": "stdout",
     "output_type": "stream",
     "text": [
      "[2, 3] [3] None\n",
      "[1, 2]\n"
     ]
    }
   ],
   "source": [
    "class ListNode(object):\n",
    "    def __init__(self, x):\n",
    "        self.val = x\n",
    "        self.next = None\n",
    "    def __repr__(self):\n",
    "        t = self\n",
    "        x = []\n",
    "        while t != None:\n",
    "            x += [t.val]\n",
    "            t = t.next\n",
    "        return str(x)\n",
    "\n",
    "class Solution(object):\n",
    "    def removeNthFromEnd(self, head, n):\n",
    "        \"\"\"\n",
    "        :type head: ListNode\n",
    "        :type n: int\n",
    "        :rtype: ListNode\n",
    "        \n",
    "        \"\"\"\n",
    "        tmp = head\n",
    "        count = 0\n",
    "        while tmp != None:\n",
    "            count += 1\n",
    "            tmp = tmp.next\n",
    "        count -= n\n",
    "        if count < 0:\n",
    "            return None\n",
    "        t = 0\n",
    "        tmp = head\n",
    "        prev = None\n",
    "        prev2 = None\n",
    "        while t <= count and tmp != None:\n",
    "#             print(t)\n",
    "            prev2 = prev\n",
    "            prev = tmp\n",
    "            tmp = tmp.next\n",
    "            t += 1\n",
    "        print(prev2, prev, tmp)\n",
    "        if prev2 == None:\n",
    "            del prev\n",
    "            return tmp\n",
    "        else:\n",
    "            prev2.next = tmp\n",
    "            del prev\n",
    "            return head\n",
    "        \n",
    "        \n",
    "    \n",
    "x = Solution()\n",
    "head = ListNode(1)\n",
    "head.next = ListNode(2)\n",
    "head.next.next = ListNode(3)\n",
    "print(x.removeNthFromEnd(head, 1))"
   ]
  },
  {
   "cell_type": "code",
   "execution_count": 197,
   "metadata": {},
   "outputs": [
    {
     "name": "stdout",
     "output_type": "stream",
     "text": [
      "defaultdict(None, {0: 1, 9: 0, 3: 0, 12: 1})\n",
      "0\n",
      "3\n",
      "9\n",
      "12\n"
     ]
    }
   ],
   "source": [
    "from collections import defaultdict\n",
    "class Solution(object):\n",
    "    def findSubstring(self, s, words):\n",
    "        \"\"\"\n",
    "        :type s: str\n",
    "        :type words: List[str]\n",
    "        :rtype: List[int]\n",
    "        \"\"\"\n",
    "        indices = defaultdict()\n",
    "        for k,i in enumerate(words):\n",
    "            index =  s.find(i)\n",
    "            while index >= 0:\n",
    "                indices[index] = k\n",
    "                index = s.find(i,index+1)\n",
    "        print(indices)\n",
    "        check = set()\n",
    "        indices\n",
    "        for i in sorted(indices.keys()):\n",
    "            print(i)\n",
    "            if not indices[i] in check:\n",
    "                check.add(indices[i])\n",
    "            else:\n",
    "        \n",
    "x = Solution()\n",
    "x.findSubstring(\"barfoothefoobarman\", [\"foo\", \"bar\"])"
   ]
  },
  {
   "cell_type": "code",
   "execution_count": 209,
   "metadata": {},
   "outputs": [
    {
     "name": "stdout",
     "output_type": "stream",
     "text": [
      "1\n",
      "2\n",
      "asd\n",
      "cv\n",
      "cv\n",
      "bsd\n",
      "asd-cv cv-bsd\n"
     ]
    }
   ],
   "source": [
    "from collections import Counter\n",
    "\n",
    "t = int(input())\n",
    "for _ in range(t):\n",
    "    \n",
    "    n = int(input())\n",
    "    tickets = []\n",
    "    for _ in range(n):\n",
    "        tickets += [input().strip()]\n",
    "        tickets += [input().strip()]\n",
    "    c = {}\n",
    "    el = iter(tickets)\n",
    "    s1 = set()\n",
    "    d1 = set()\n",
    "    for i in range(n):\n",
    "        s = next(el)\n",
    "        d = next(el)\n",
    "        s1.add(s)\n",
    "        d1.add(d)\n",
    "        c[s] = d\n",
    "    start = (s1 - d1).pop()\n",
    "    s = []\n",
    "    while start in c:\n",
    "        s += [\"{}-{}\".format(start, c[start])]\n",
    "        start = c[start]\n",
    "    print(' '.join(s))\n",
    "\n",
    "\n",
    "    \n"
   ]
  },
  {
   "cell_type": "code",
   "execution_count": 237,
   "metadata": {},
   "outputs": [
    {
     "name": "stdout",
     "output_type": "stream",
     "text": [
      "1\n",
      "11 12\n",
      "7\n"
     ]
    }
   ],
   "source": [
    "t = int(input())\n",
    "for _ in range(t):\n",
    "    l, r = list(map(int, input().strip().split()))\n",
    "    nums = set()\n",
    "    tot = 0\n",
    "    for n in range(l, r+1):\n",
    "#         print(n)\n",
    "        while n > 1:\n",
    "            \n",
    "            for i in [7, 5, 3, 2]:\n",
    "                if n % i == 0:\n",
    "                    nums.add(i)\n",
    "                    n //= i\n",
    "                    continue\n",
    "            if n == 1:\n",
    "                break\n",
    "                \n",
    "            nums.add(sum(map(int, str(n))))\n",
    "            break\n",
    "#         print(nums)\n",
    "        tot += sum(nums)\n",
    "        nums.clear()\n",
    "    print(tot)"
   ]
  },
  {
   "cell_type": "code",
   "execution_count": null,
   "metadata": {
    "collapsed": true
   },
   "outputs": [],
   "source": []
  },
  {
   "cell_type": "code",
   "execution_count": 246,
   "metadata": {},
   "outputs": [
    {
     "data": {
      "text/plain": [
       "5"
      ]
     },
     "execution_count": 246,
     "metadata": {},
     "output_type": "execute_result"
    }
   ],
   "source": [
    "from collections import defaultdict\n",
    "\n",
    "s = input().strip()\n",
    "graph = defaultdict(set)\n",
    "exist = defaultdict(list)\n",
    "for i, e in enumerate(s):\n",
    "    for j in exist[e]:\n",
    "        graph[j].add(i)\n",
    "    graph[i -1].add(i)\n",
    "    graph[i].add(i-1)\n",
    "    exist[e].append(i)\n",
    "\n",
    "dp = {}\n",
    "def dfs(g, src, dst, weight = 0):\n",
    "    global dp\n",
    "    if src == dst:\n",
    "        return weight\n",
    "    else:\n",
    "        weight += 1\n",
    "        key = (src,dst,weight)\n",
    "        if key in dp:\n",
    "            return dp[key]\n",
    "        m = float('Inf')\n",
    "        for i in g[src]:\n",
    "            m = min(m,dfs(g, i, dst, weight))\n",
    "        dp[key] = m\n",
    "        return m\n",
    "    \n",
    "print(dfs(graph, 0, len(s) -1, 0))"
   ]
  },
  {
   "cell_type": "code",
   "execution_count": 302,
   "metadata": {},
   "outputs": [
    {
     "ename": "KeyboardInterrupt",
     "evalue": "",
     "output_type": "error",
     "traceback": [
      "\u001b[0;31m---------------------------------------------------------------------------\u001b[0m",
      "\u001b[0;31mKeyboardInterrupt\u001b[0m                         Traceback (most recent call last)",
      "\u001b[0;32m/usr/local/lib/python3.5/dist-packages/ipykernel/kernelbase.py\u001b[0m in \u001b[0;36m_input_request\u001b[0;34m(self, prompt, ident, parent, password)\u001b[0m\n\u001b[1;32m    729\u001b[0m             \u001b[0;32mtry\u001b[0m\u001b[0;34m:\u001b[0m\u001b[0;34m\u001b[0m\u001b[0m\n\u001b[0;32m--> 730\u001b[0;31m                 \u001b[0mident\u001b[0m\u001b[0;34m,\u001b[0m \u001b[0mreply\u001b[0m \u001b[0;34m=\u001b[0m \u001b[0mself\u001b[0m\u001b[0;34m.\u001b[0m\u001b[0msession\u001b[0m\u001b[0;34m.\u001b[0m\u001b[0mrecv\u001b[0m\u001b[0;34m(\u001b[0m\u001b[0mself\u001b[0m\u001b[0;34m.\u001b[0m\u001b[0mstdin_socket\u001b[0m\u001b[0;34m,\u001b[0m \u001b[0;36m0\u001b[0m\u001b[0;34m)\u001b[0m\u001b[0;34m\u001b[0m\u001b[0m\n\u001b[0m\u001b[1;32m    731\u001b[0m             \u001b[0;32mexcept\u001b[0m \u001b[0mException\u001b[0m\u001b[0;34m:\u001b[0m\u001b[0;34m\u001b[0m\u001b[0m\n",
      "\u001b[0;32m/usr/local/lib/python3.5/dist-packages/jupyter_client/session.py\u001b[0m in \u001b[0;36mrecv\u001b[0;34m(self, socket, mode, content, copy)\u001b[0m\n\u001b[1;32m    795\u001b[0m         \u001b[0;32mtry\u001b[0m\u001b[0;34m:\u001b[0m\u001b[0;34m\u001b[0m\u001b[0m\n\u001b[0;32m--> 796\u001b[0;31m             \u001b[0mmsg_list\u001b[0m \u001b[0;34m=\u001b[0m \u001b[0msocket\u001b[0m\u001b[0;34m.\u001b[0m\u001b[0mrecv_multipart\u001b[0m\u001b[0;34m(\u001b[0m\u001b[0mmode\u001b[0m\u001b[0;34m,\u001b[0m \u001b[0mcopy\u001b[0m\u001b[0;34m=\u001b[0m\u001b[0mcopy\u001b[0m\u001b[0;34m)\u001b[0m\u001b[0;34m\u001b[0m\u001b[0m\n\u001b[0m\u001b[1;32m    797\u001b[0m         \u001b[0;32mexcept\u001b[0m \u001b[0mzmq\u001b[0m\u001b[0;34m.\u001b[0m\u001b[0mZMQError\u001b[0m \u001b[0;32mas\u001b[0m \u001b[0me\u001b[0m\u001b[0;34m:\u001b[0m\u001b[0;34m\u001b[0m\u001b[0m\n",
      "\u001b[0;32m/usr/local/lib/python3.5/dist-packages/zmq/sugar/socket.py\u001b[0m in \u001b[0;36mrecv_multipart\u001b[0;34m(self, flags, copy, track)\u001b[0m\n\u001b[1;32m    394\u001b[0m         \"\"\"\n\u001b[0;32m--> 395\u001b[0;31m         \u001b[0mparts\u001b[0m \u001b[0;34m=\u001b[0m \u001b[0;34m[\u001b[0m\u001b[0mself\u001b[0m\u001b[0;34m.\u001b[0m\u001b[0mrecv\u001b[0m\u001b[0;34m(\u001b[0m\u001b[0mflags\u001b[0m\u001b[0;34m,\u001b[0m \u001b[0mcopy\u001b[0m\u001b[0;34m=\u001b[0m\u001b[0mcopy\u001b[0m\u001b[0;34m,\u001b[0m \u001b[0mtrack\u001b[0m\u001b[0;34m=\u001b[0m\u001b[0mtrack\u001b[0m\u001b[0;34m)\u001b[0m\u001b[0;34m]\u001b[0m\u001b[0;34m\u001b[0m\u001b[0m\n\u001b[0m\u001b[1;32m    396\u001b[0m         \u001b[0;31m# have first part already, only loop while more to receive\u001b[0m\u001b[0;34m\u001b[0m\u001b[0;34m\u001b[0m\u001b[0m\n",
      "\u001b[0;32mzmq/backend/cython/socket.pyx\u001b[0m in \u001b[0;36mzmq.backend.cython.socket.Socket.recv (zmq/backend/cython/socket.c:7683)\u001b[0;34m()\u001b[0m\n",
      "\u001b[0;32mzmq/backend/cython/socket.pyx\u001b[0m in \u001b[0;36mzmq.backend.cython.socket.Socket.recv (zmq/backend/cython/socket.c:7460)\u001b[0;34m()\u001b[0m\n",
      "\u001b[0;32mzmq/backend/cython/socket.pyx\u001b[0m in \u001b[0;36mzmq.backend.cython.socket._recv_copy (zmq/backend/cython/socket.c:2344)\u001b[0;34m()\u001b[0m\n",
      "\u001b[0;32m/usr/local/lib/python3.5/dist-packages/zmq/backend/cython/checkrc.pxd\u001b[0m in \u001b[0;36mzmq.backend.cython.checkrc._check_rc (zmq/backend/cython/socket.c:9621)\u001b[0;34m()\u001b[0m\n",
      "\u001b[0;31mKeyboardInterrupt\u001b[0m: ",
      "\nDuring handling of the above exception, another exception occurred:\n",
      "\u001b[0;31mKeyboardInterrupt\u001b[0m                         Traceback (most recent call last)",
      "\u001b[0;32m<ipython-input-302-949c58f0732b>\u001b[0m in \u001b[0;36m<module>\u001b[0;34m()\u001b[0m\n\u001b[1;32m      1\u001b[0m \u001b[0;34m\u001b[0m\u001b[0m\n\u001b[0;32m----> 2\u001b[0;31m \u001b[0mt\u001b[0m \u001b[0;34m=\u001b[0m \u001b[0mint\u001b[0m\u001b[0;34m(\u001b[0m\u001b[0minput\u001b[0m\u001b[0;34m(\u001b[0m\u001b[0;34m)\u001b[0m\u001b[0;34m)\u001b[0m\u001b[0;34m\u001b[0m\u001b[0m\n\u001b[0m\u001b[1;32m      3\u001b[0m \u001b[0;32mfor\u001b[0m \u001b[0m_\u001b[0m \u001b[0;32min\u001b[0m \u001b[0mrange\u001b[0m\u001b[0;34m(\u001b[0m\u001b[0mt\u001b[0m\u001b[0;34m)\u001b[0m\u001b[0;34m:\u001b[0m\u001b[0;34m\u001b[0m\u001b[0m\n\u001b[1;32m      4\u001b[0m     \u001b[0minput\u001b[0m\u001b[0;34m(\u001b[0m\u001b[0;34m)\u001b[0m\u001b[0;34m\u001b[0m\u001b[0m\n\u001b[1;32m      5\u001b[0m     \u001b[0ms\u001b[0m \u001b[0;34m=\u001b[0m \u001b[0minput\u001b[0m\u001b[0;34m(\u001b[0m\u001b[0;34m)\u001b[0m\u001b[0;34m.\u001b[0m\u001b[0mstrip\u001b[0m\u001b[0;34m(\u001b[0m\u001b[0;34m)\u001b[0m\u001b[0;34m\u001b[0m\u001b[0m\n",
      "\u001b[0;32m/usr/local/lib/python3.5/dist-packages/ipykernel/kernelbase.py\u001b[0m in \u001b[0;36mraw_input\u001b[0;34m(self, prompt)\u001b[0m\n\u001b[1;32m    703\u001b[0m             \u001b[0mself\u001b[0m\u001b[0;34m.\u001b[0m\u001b[0m_parent_ident\u001b[0m\u001b[0;34m,\u001b[0m\u001b[0;34m\u001b[0m\u001b[0m\n\u001b[1;32m    704\u001b[0m             \u001b[0mself\u001b[0m\u001b[0;34m.\u001b[0m\u001b[0m_parent_header\u001b[0m\u001b[0;34m,\u001b[0m\u001b[0;34m\u001b[0m\u001b[0m\n\u001b[0;32m--> 705\u001b[0;31m             \u001b[0mpassword\u001b[0m\u001b[0;34m=\u001b[0m\u001b[0;32mFalse\u001b[0m\u001b[0;34m,\u001b[0m\u001b[0;34m\u001b[0m\u001b[0m\n\u001b[0m\u001b[1;32m    706\u001b[0m         )\n\u001b[1;32m    707\u001b[0m \u001b[0;34m\u001b[0m\u001b[0m\n",
      "\u001b[0;32m/usr/local/lib/python3.5/dist-packages/ipykernel/kernelbase.py\u001b[0m in \u001b[0;36m_input_request\u001b[0;34m(self, prompt, ident, parent, password)\u001b[0m\n\u001b[1;32m    733\u001b[0m             \u001b[0;32mexcept\u001b[0m \u001b[0mKeyboardInterrupt\u001b[0m\u001b[0;34m:\u001b[0m\u001b[0;34m\u001b[0m\u001b[0m\n\u001b[1;32m    734\u001b[0m                 \u001b[0;31m# re-raise KeyboardInterrupt, to truncate traceback\u001b[0m\u001b[0;34m\u001b[0m\u001b[0;34m\u001b[0m\u001b[0m\n\u001b[0;32m--> 735\u001b[0;31m                 \u001b[0;32mraise\u001b[0m \u001b[0mKeyboardInterrupt\u001b[0m\u001b[0;34m\u001b[0m\u001b[0m\n\u001b[0m\u001b[1;32m    736\u001b[0m             \u001b[0;32melse\u001b[0m\u001b[0;34m:\u001b[0m\u001b[0;34m\u001b[0m\u001b[0m\n\u001b[1;32m    737\u001b[0m                 \u001b[0;32mbreak\u001b[0m\u001b[0;34m\u001b[0m\u001b[0m\n",
      "\u001b[0;31mKeyboardInterrupt\u001b[0m: "
     ]
    }
   ],
   "source": [
    "\n",
    "t = int(input())\n",
    "for _ in range(t):\n",
    "    input()\n",
    "    s = input().strip()\n",
    "    vals = list(map(int, input().strip().split()))\n",
    "    stack = []\n",
    "    seq = []\n",
    "    match = {i: j for i, j in zip('>]})','<[{(') }\n",
    "    opening = {i for i in '<[{('}\n",
    "    m = -float('Inf')\n",
    "    for i, e in enumerate(s):\n",
    "        if e in opening:\n",
    "    #         print(\"open\")\n",
    "            stack.append(i)\n",
    "        elif len(stack) > 0:\n",
    "    #         print(s[stack[-1]], match[e])\n",
    "            if s[stack[-1]] == match[e]:\n",
    "                seq.append(stack.pop())\n",
    "                for k in seq:\n",
    "                    t = vals[k]+ vals[i]\n",
    "                    if m < t:\n",
    "                        m = t\n",
    "\n",
    "            else:\n",
    "                seq = []\n",
    "\n",
    "    print(m if m != -float('Inf') else 0)\n"
   ]
  },
  {
   "cell_type": "code",
   "execution_count": 303,
   "metadata": {},
   "outputs": [
    {
     "name": "stdout",
     "output_type": "stream",
     "text": [
      "0\n"
     ]
    }
   ],
   "source": [
    "\n",
    "s = \"[[))\"\n",
    "vals = [300,2,-1,3,-5,6,9, 10]\n",
    "stack = []\n",
    "seq = []\n",
    "match = {i: j for i, j in zip('>]})','<[{(') }\n",
    "opening = {i for i in '<[{('}\n",
    "m = -float('Inf')\n",
    "for i, e in enumerate(s):\n",
    "    if e in opening:\n",
    "#         print(\"open\")\n",
    "        stack.append(i)\n",
    "    elif len(stack) > 0:\n",
    "#         print(s[stack[-1]], match[e])\n",
    "        if s[stack[-1]] == match[e]:\n",
    "            seq.append(stack.pop())\n",
    "            for k in seq:\n",
    "                t = vals[k]+ vals[i]\n",
    "                if m < t:\n",
    "                    m = t\n",
    "\n",
    "        else:\n",
    "            seq = []\n",
    "\n",
    "print(m if m != -float('Inf') else 0)\n"
   ]
  },
  {
   "cell_type": "code",
   "execution_count": 349,
   "metadata": {},
   "outputs": [
    {
     "name": "stdout",
     "output_type": "stream",
     "text": [
      "True True  both\n",
      "0\n",
      "False True  one of em\n",
      "0\n",
      "True False  one of em\n",
      "0\n",
      "True True  both\n",
      "1\n",
      "True True  both\n",
      "3\n",
      "True True  both\n",
      "7\n",
      "True True  both\n",
      "15\n",
      "True True  both\n",
      "31\n",
      "True True  both\n",
      "63\n",
      "True True  both\n",
      "127\n",
      "True True  both\n",
      "255\n",
      "True True  both\n",
      "511\n",
      "True True  both\n",
      "1023\n",
      "True True  both\n",
      "2047\n",
      "True True  both\n",
      "4095\n",
      "True True  both\n",
      "8191\n",
      "True True  both\n",
      "16383\n",
      "True True  both\n",
      "32767\n",
      "True True  both\n",
      "65535\n",
      "True True  both\n",
      "131071\n",
      "True True  both\n",
      "262143\n",
      "True True  both\n",
      "524287\n",
      "True True  both\n",
      "1048575\n",
      "True True  both\n",
      "2097151\n",
      "True True  both\n",
      "4194303\n",
      "True True  both\n",
      "8388607\n",
      "True True  both\n",
      "16777215\n",
      "True True  both\n",
      "33554431\n",
      "True True  both\n",
      "67108863\n",
      "True True  both\n",
      "134217727\n",
      "True True  both\n",
      "268435455\n"
     ]
    },
    {
     "data": {
      "text/plain": [
       "-2147483640"
      ]
     },
     "execution_count": 349,
     "metadata": {},
     "output_type": "execute_result"
    }
   ],
   "source": [
    "a, b = 3, 5\n",
    "def getRMB(n):\n",
    "    if n & 1 == 1:\n",
    "        return True\n",
    "    return False\n",
    "\n",
    "def bitInverse(n, bitlen = 31):\n",
    "    out = 0\n",
    "    for _ in range(bitlen):\n",
    "        b = getRMB(n)\n",
    "        out = out << 1\n",
    "        if not b:\n",
    "            out = out | 1\n",
    "        n = n >> 1\n",
    "    return bitReverse(out, bitlen)\n",
    "        \n",
    "\n",
    "def bitReverse(n, bitlen = 31):\n",
    "    out = 0\n",
    "    for _ in range(bitlen):\n",
    "        b = getRMB(n)\n",
    "        out = out << 1\n",
    "        out |= b\n",
    "        n = n >> 1\n",
    "    return out\n",
    "        \n",
    "def add(a, b):\n",
    "    pos = True\n",
    "    if a < 0 and b < 0:\n",
    "        pos =False\n",
    "    out = 0\n",
    "    carry = False\n",
    "    for _ in range(31):\n",
    "        b1 = getRMB(a)\n",
    "        b2 = getRMB(b)\n",
    "        print(b1, b2, end = \" \")\n",
    "        if b1 and b2:\n",
    "            print(' both')\n",
    "            if carry:\n",
    "                out = out << 1\n",
    "                out |= 1\n",
    "            else:\n",
    "                out = out << 1\n",
    "            carry = True\n",
    "        elif b1 or b2:\n",
    "            print(' one of em')\n",
    "            out = out << 1\n",
    "            if not carry:\n",
    "                out = out | 1\n",
    "            \n",
    "        elif carry:\n",
    "            print(' carry')\n",
    "            out = out << 1\n",
    "            out = out | 1\n",
    "            carry = False\n",
    "        else:\n",
    "            print('nothing')\n",
    "            out = out << 1\n",
    "        print(out)\n",
    "        a = a >> 1\n",
    "        b = b >> 1\n",
    "    out =  bitReverse(out, 31)\n",
    "    if not pos:\n",
    "        return -out\n",
    "    return out\n",
    "\n",
    "add(-3, -5)\n",
    "    "
   ]
  },
  {
   "cell_type": "code",
   "execution_count": 346,
   "metadata": {},
   "outputs": [
    {
     "name": "stdout",
     "output_type": "stream",
     "text": [
      "False True  one of em\n",
      "1\n",
      "True True  both\n",
      "2\n",
      "True True  both\n",
      "5\n",
      "True True  both\n",
      "11\n",
      "True True  both\n",
      "23\n",
      "True True  both\n",
      "47\n",
      "True True  both\n",
      "95\n",
      "True True  both\n",
      "191\n",
      "True True  both\n",
      "383\n",
      "True True  both\n",
      "767\n",
      "True True  both\n",
      "1535\n",
      "True True  both\n",
      "3071\n",
      "True True  both\n",
      "6143\n",
      "True True  both\n",
      "12287\n",
      "True True  both\n",
      "24575\n",
      "True True  both\n",
      "49151\n",
      "True True  both\n",
      "98303\n",
      "True True  both\n",
      "196607\n",
      "True True  both\n",
      "393215\n",
      "True True  both\n",
      "786431\n",
      "True True  both\n",
      "1572863\n",
      "True True  both\n",
      "3145727\n",
      "True True  both\n",
      "6291455\n",
      "True True  both\n",
      "12582911\n",
      "True True  both\n",
      "25165823\n",
      "True True  both\n",
      "50331647\n",
      "True True  both\n",
      "100663295\n",
      "True True  both\n",
      "201326591\n",
      "True True  both\n",
      "402653183\n",
      "True True  both\n",
      "805306367\n",
      "True True  both\n",
      "1610612735\n"
     ]
    },
    {
     "data": {
      "text/plain": [
       "2147483645"
      ]
     },
     "execution_count": 346,
     "metadata": {},
     "output_type": "execute_result"
    }
   ],
   "source": []
  },
  {
   "cell_type": "code",
   "execution_count": null,
   "metadata": {
    "collapsed": true
   },
   "outputs": [],
   "source": [
    "a = 999\n",
    "b = 1\n",
    "s = a ^ b\n",
    "c = (a & b) << 1\n",
    "\n",
    "while c != 0:\n",
    "    t = s ^ c\n",
    "    c = (s ^ c )<< 1\n",
    "    s = t\n",
    "print(\"{:011b}\".format(a))\n",
    "print(\"{:011b}\".format(b))\n",
    "print(\"-\"*11)\n",
    "print(\"{:011b} current\".format(s))\n",
    "print(\"-\"*11)\n",
    "\n",
    "print(\"{:011b} expected\".format(1000))"
   ]
  },
  {
   "cell_type": "code",
   "execution_count": 3,
   "metadata": {
    "collapsed": true
   },
   "outputs": [],
   "source": [
    "import psycopg"
   ]
  }
 ],
 "metadata": {
  "kernelspec": {
   "display_name": "Python 3",
   "language": "python",
   "name": "python3"
  },
  "language_info": {
   "codemirror_mode": {
    "name": "ipython",
    "version": 3
   },
   "file_extension": ".py",
   "mimetype": "text/x-python",
   "name": "python",
   "nbconvert_exporter": "python",
   "pygments_lexer": "ipython3",
   "version": "3.5.2"
  }
 },
 "nbformat": 4,
 "nbformat_minor": 2
}
