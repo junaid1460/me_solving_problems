{
 "cells": [
  {
   "cell_type": "code",
   "execution_count": 2,
   "metadata": {},
   "outputs": [
    {
     "name": "stdout",
     "output_type": "stream",
     "text": [
      "dict_keys([2, 3])\n",
      "1\n",
      "[1, 1]\n",
      "dict_keys([4])\n",
      "3\n",
      "[1, 1, 3]\n",
      "dict_keys([])\n",
      "4\n",
      "[1, 1, 3, 4]\n",
      "dict_keys([4])\n",
      "2\n",
      "[1, 1, 3, 4, 2]\n"
     ]
    }
   ],
   "source": [
    "from collections import defaultdict\n",
    "g = defaultdict(lambda: defaultdict())\n",
    "edges = [(1,2,3),(1,3,2),(2,4,1),(3,4,5)]\n",
    "for i, j, w in edges:\n",
    "    g[i][j] = w\n",
    "\n",
    "def dfs(g, src, dst):\n",
    "    stack = [src]\n",
    "    visited = set()\n",
    "    path = [src]\n",
    "    while len(stack) > 0:\n",
    "        c = stack.pop()\n",
    "        if not c in visited:\n",
    "            path += [c]\n",
    "            stack += g[c].keys()\n",
    "            print(g[c].keys())\n",
    "            print(c)\n",
    "            visited.add(c)\n",
    "            print(path)\n",
    "\n",
    "\n",
    "dfs(g\n",
    "    , 1, 4)"
   ]
  }
 ],
 "metadata": {
  "kernelspec": {
   "display_name": "Python 3",
   "language": "python",
   "name": "python3"
  },
  "language_info": {
   "codemirror_mode": {
    "name": "ipython",
    "version": 3
   },
   "file_extension": ".py",
   "mimetype": "text/x-python",
   "name": "python",
   "nbconvert_exporter": "python",
   "pygments_lexer": "ipython3",
   "version": "3.5.2"
  }
 },
 "nbformat": 4,
 "nbformat_minor": 2
}
